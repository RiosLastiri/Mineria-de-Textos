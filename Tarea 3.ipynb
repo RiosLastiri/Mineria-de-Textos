{
 "metadata": {
  "language_info": {
   "codemirror_mode": {
    "name": "ipython",
    "version": 3
   },
   "file_extension": ".py",
   "mimetype": "text/x-python",
   "name": "python",
   "nbconvert_exporter": "python",
   "pygments_lexer": "ipython3",
   "version": "3.8.8-final"
  },
  "orig_nbformat": 2,
  "kernelspec": {
   "name": "python3",
   "display_name": "Python 3",
   "language": "python"
  }
 },
 "nbformat": 4,
 "nbformat_minor": 2,
 "cells": [
  {
   "source": [
    "Tarea 3\n",
    "\n",
    "Descargar el archivo wiki-sub.jsonl y realizar las siguientes actividades. Este archivo tiene 100k documentos, cada uno de ellos corresponde a la introducción de un artículo de Wikipedia.\n",
    "\n",
    "Descargar el archivo query-sub.jsonl. Este archivo contiene 50 consultas que serán utilizadas para evaluar las propuestas de RI. Cada consulta tiene los identificadores de los documentos que fueron evaluados como relevantes.\n",
    "\n",
    " \n",
    "\n",
    "Actividad 1\n",
    "\n",
    "Implementar 2 modelos de RI que utilicen los algoritmos LSA (truncated SVD) y LDA para identificar la distibución de tópicos de los documentos. Los modelos de RI deben usar esta distribución de tópicos para recuperar los documentos relevantes para una consulta dada. Existen varias formas de utilizar el análisis de tópicos en RI. Explicar cuál es la técnica utilizada y cuál es la intención de usar el análisis de tópicos en RI.\n",
    "\n",
    " \n",
    "\n",
    "Actividad 2\n",
    "\n",
    "Utilizando las consultas del archivo query-sub.jsonl, obtener las curvas recall-precisión para los 2 modelos de RI basados en tópicos. Reportar el mejor valor de F1 obtenido para cada uno. También reportar el MAP resultante.\n",
    "\n",
    " \n",
    "\n",
    "Actividad 3\n",
    "\n",
    "Reportar precisión, recall y F1@5 y F1@10, para los 2 sistemas.\n",
    "\n",
    " \n",
    "\n",
    "Actividad 4\n",
    "\n",
    "Discutir los resultados obtenidos."
   ],
   "cell_type": "markdown",
   "metadata": {}
  },
  {
   "cell_type": "code",
   "execution_count": 23,
   "metadata": {},
   "outputs": [],
   "source": [
    "import pandas as pd\n",
    "from ast import literal_eval\n",
    "import numpy as np \n",
    "from scipy.linalg import inv "
   ]
  },
  {
   "cell_type": "code",
   "execution_count": 2,
   "metadata": {},
   "outputs": [
    {
     "output_type": "execute_result",
     "data": {
      "text/plain": [
       "                                   id  \\\n",
       "0               HazMat_-LRB-film-RRB-   \n",
       "1                     Pseudodrephalys   \n",
       "2             Anathallis_linearifolia   \n",
       "3                    John_A._McElwain   \n",
       "4                           Usserød_Å   \n",
       "...                               ...   \n",
       "99605            Lets_Raise_A_Million   \n",
       "99606         Kunita–Watanabe_theorem   \n",
       "99607  Montenegrin_Amateur_Radio_Pool   \n",
       "99608         Mouth_and_foot_painting   \n",
       "99609                  Michael_Sundin   \n",
       "\n",
       "                                                    text  \\\n",
       "0      HazMat is a 2013 horror film written and direc...   \n",
       "1      Pseudodrephalys is a genus of South American s...   \n",
       "2      Anathallis linearifolia is a species of orchid...   \n",
       "3      John Allen McElwain -LRB- September 21 , 1794 ...   \n",
       "4      Usserød Å , the principal drainage of Sjælsø L...   \n",
       "...                                                  ...   \n",
       "99605  The Let 's Raise a Million Project -LRB- LRAM ...   \n",
       "99606  In stochastic calculus , the Kunita -- Watanab...   \n",
       "99607  The Montenegrin Amateur Radio Pool -LRB- MARP ...   \n",
       "99608  Mouth and foot painting is a technique to crea...   \n",
       "99609  Michael Sundin -LRB- 1 March 1961 -- 23 July 1...   \n",
       "\n",
       "                                                  lemmas  \\\n",
       "0      [hazmat, 2013, horror, film, write, direct, lo...   \n",
       "1      [pseudodrephaly, genus, south, american, skipp...   \n",
       "2      [anathalli, linearifolia, species, orchid, lin...   \n",
       "3      [john, allen, mcelwain, lrb, september, 21, 17...   \n",
       "4      [usserød, å, principal, drainage, sjælsø, lake...   \n",
       "...                                                  ...   \n",
       "99605  [let, s, raise, million, project, lrb, lram, r...   \n",
       "99606  [stochastic, calculus, kunita, watanabe, theor...   \n",
       "99607  [montenegrin, amateur, radio, pool, lrb, marp,...   \n",
       "99608  [mouth, foot, painting, technique, create, dra...   \n",
       "99609  [michael, sundin, lrb, 1, march, 1961, 23, jul...   \n",
       "\n",
       "                                                   stems  \n",
       "0      [hazmat, 2013, horror, film, written, direct, ...  \n",
       "1      [pseudodrephali, genu, south, american, skippe...  \n",
       "2      [anath, linearifolia, speci, orchid, linearifo...  \n",
       "3      [john, allen, mcelwain, lrb, septemb, 21, 1794...  \n",
       "4      [usserød, å, princip, drainag, sjælsø, lake, s...  \n",
       "...                                                  ...  \n",
       "99605  [let, s, rais, million, project, lrb, lram, rr...  \n",
       "99606  [stochast, calculu, kunita, watanab, theorem, ...  \n",
       "99607  [montenegrin, amateur, radio, pool, lrb, marp,...  \n",
       "99608  [mouth, foot, paint, techniqu, creat, draw, pa...  \n",
       "99609  [michael, sundin, lrb, 1, march, 1961, 23, jul...  \n",
       "\n",
       "[99610 rows x 4 columns]"
      ],
      "text/html": "<div>\n<style scoped>\n    .dataframe tbody tr th:only-of-type {\n        vertical-align: middle;\n    }\n\n    .dataframe tbody tr th {\n        vertical-align: top;\n    }\n\n    .dataframe thead th {\n        text-align: right;\n    }\n</style>\n<table border=\"1\" class=\"dataframe\">\n  <thead>\n    <tr style=\"text-align: right;\">\n      <th></th>\n      <th>id</th>\n      <th>text</th>\n      <th>lemmas</th>\n      <th>stems</th>\n    </tr>\n  </thead>\n  <tbody>\n    <tr>\n      <th>0</th>\n      <td>HazMat_-LRB-film-RRB-</td>\n      <td>HazMat is a 2013 horror film written and direc...</td>\n      <td>[hazmat, 2013, horror, film, write, direct, lo...</td>\n      <td>[hazmat, 2013, horror, film, written, direct, ...</td>\n    </tr>\n    <tr>\n      <th>1</th>\n      <td>Pseudodrephalys</td>\n      <td>Pseudodrephalys is a genus of South American s...</td>\n      <td>[pseudodrephaly, genus, south, american, skipp...</td>\n      <td>[pseudodrephali, genu, south, american, skippe...</td>\n    </tr>\n    <tr>\n      <th>2</th>\n      <td>Anathallis_linearifolia</td>\n      <td>Anathallis linearifolia is a species of orchid...</td>\n      <td>[anathalli, linearifolia, species, orchid, lin...</td>\n      <td>[anath, linearifolia, speci, orchid, linearifo...</td>\n    </tr>\n    <tr>\n      <th>3</th>\n      <td>John_A._McElwain</td>\n      <td>John Allen McElwain -LRB- September 21 , 1794 ...</td>\n      <td>[john, allen, mcelwain, lrb, september, 21, 17...</td>\n      <td>[john, allen, mcelwain, lrb, septemb, 21, 1794...</td>\n    </tr>\n    <tr>\n      <th>4</th>\n      <td>Usserød_Å</td>\n      <td>Usserød Å , the principal drainage of Sjælsø L...</td>\n      <td>[usserød, å, principal, drainage, sjælsø, lake...</td>\n      <td>[usserød, å, princip, drainag, sjælsø, lake, s...</td>\n    </tr>\n    <tr>\n      <th>...</th>\n      <td>...</td>\n      <td>...</td>\n      <td>...</td>\n      <td>...</td>\n    </tr>\n    <tr>\n      <th>99605</th>\n      <td>Lets_Raise_A_Million</td>\n      <td>The Let 's Raise a Million Project -LRB- LRAM ...</td>\n      <td>[let, s, raise, million, project, lrb, lram, r...</td>\n      <td>[let, s, rais, million, project, lrb, lram, rr...</td>\n    </tr>\n    <tr>\n      <th>99606</th>\n      <td>Kunita–Watanabe_theorem</td>\n      <td>In stochastic calculus , the Kunita -- Watanab...</td>\n      <td>[stochastic, calculus, kunita, watanabe, theor...</td>\n      <td>[stochast, calculu, kunita, watanab, theorem, ...</td>\n    </tr>\n    <tr>\n      <th>99607</th>\n      <td>Montenegrin_Amateur_Radio_Pool</td>\n      <td>The Montenegrin Amateur Radio Pool -LRB- MARP ...</td>\n      <td>[montenegrin, amateur, radio, pool, lrb, marp,...</td>\n      <td>[montenegrin, amateur, radio, pool, lrb, marp,...</td>\n    </tr>\n    <tr>\n      <th>99608</th>\n      <td>Mouth_and_foot_painting</td>\n      <td>Mouth and foot painting is a technique to crea...</td>\n      <td>[mouth, foot, painting, technique, create, dra...</td>\n      <td>[mouth, foot, paint, techniqu, creat, draw, pa...</td>\n    </tr>\n    <tr>\n      <th>99609</th>\n      <td>Michael_Sundin</td>\n      <td>Michael Sundin -LRB- 1 March 1961 -- 23 July 1...</td>\n      <td>[michael, sundin, lrb, 1, march, 1961, 23, jul...</td>\n      <td>[michael, sundin, lrb, 1, march, 1961, 23, jul...</td>\n    </tr>\n  </tbody>\n</table>\n<p>99610 rows × 4 columns</p>\n</div>"
     },
     "metadata": {},
     "execution_count": 2
    }
   ],
   "source": [
    "#Carga de los documentos en formato csv, se usa literal_eval para que la lista de tokens se guarden como lista y no como cadena\n",
    "df=pd.read_csv(\"wiki-sub.csv\")\n",
    "df[\"lemmas\"]=df[\"lemmas\"].apply(literal_eval)\n",
    "df[\"stems\"]=df[\"stems\"].apply(literal_eval)\n",
    "df"
   ]
  },
  {
   "cell_type": "code",
   "execution_count": 3,
   "metadata": {},
   "outputs": [
    {
     "output_type": "stream",
     "name": "stdout",
     "text": [
      "Tamaño de la matriz T-D:  (99610, 1000)\n"
     ]
    }
   ],
   "source": [
    "from sklearn.feature_extraction.text import TfidfVectorizer\n",
    "\n",
    "vectorizer = TfidfVectorizer(stop_words='english', \n",
    "                            max_features= 1000, # máximo número de términos\n",
    "                            max_df = 0.5, \n",
    "                            smooth_idf=True)\n",
    "corpus=df['lemmas'].apply(lambda x: \" \".join(x))\n",
    "X = vectorizer.fit_transform(corpus)\n",
    "print(\"Tamaño de la matriz T-D: \", X.shape)"
   ]
  },
  {
   "cell_type": "code",
   "execution_count": 4,
   "metadata": {},
   "outputs": [],
   "source": [
    "from sklearn.utils.extmath import randomized_svd\n",
    "\n",
    "#Se puede usar SVD truncado con randomized_svd\n",
    "U, Sigma, VT = randomized_svd(X, \n",
    "                              n_components=15,\n",
    "                              n_iter=100,\n",
    "                              random_state=123)"
   ]
  },
  {
   "cell_type": "code",
   "execution_count": 5,
   "metadata": {},
   "outputs": [
    {
     "output_type": "stream",
     "name": "stdout",
     "text": [
      "(99610, 15)\n(15,)\n(15, 1000)\n"
     ]
    }
   ],
   "source": [
    "print(U.shape)\n",
    "print(Sigma.shape)\n",
    "print(VT.shape)"
   ]
  },
  {
   "cell_type": "code",
   "execution_count": 14,
   "metadata": {},
   "outputs": [
    {
     "output_type": "execute_result",
     "data": {
      "text/plain": [
       "array([[ 0.0262894 ,  0.04039923,  0.01823786, ...,  0.02108627,\n",
       "         0.00942668,  0.01964438],\n",
       "       [-0.00975359, -0.01962459, -0.0095519 , ..., -0.01765256,\n",
       "        -0.00820902, -0.01334441],\n",
       "       [-0.00215708, -0.00425972, -0.0004727 , ...,  0.00156624,\n",
       "        -0.00113346,  0.00457579],\n",
       "       ...,\n",
       "       [-0.00554148, -0.01362898, -0.01047816, ..., -0.00735678,\n",
       "        -0.00349659, -0.00498807],\n",
       "       [-0.00318503, -0.01936598, -0.01381321, ..., -0.0021241 ,\n",
       "        -0.00134991, -0.01117282],\n",
       "       [ 0.00239065,  0.01004497,  0.00974218, ..., -0.00170298,\n",
       "         0.00105125, -0.00417417]])"
      ]
     },
     "metadata": {},
     "execution_count": 14
    }
   ],
   "source": [
    "VT"
   ]
  },
  {
   "cell_type": "code",
   "execution_count": 15,
   "metadata": {},
   "outputs": [
    {
     "output_type": "execute_result",
     "data": {
      "text/plain": [
       "array([47.85584229, 40.90544486, 36.18944078, 33.02638267, 30.81539163,\n",
       "       30.05130419, 28.85834789, 27.79169482, 25.40590642, 24.65237903,\n",
       "       24.39504871, 24.04355875, 23.75263639, 23.40902848, 23.35902272])"
      ]
     },
     "metadata": {},
     "execution_count": 15
    }
   ],
   "source": [
    "Sigma"
   ]
  },
  {
   "cell_type": "code",
   "execution_count": 31,
   "metadata": {},
   "outputs": [
    {
     "output_type": "execute_result",
     "data": {
      "text/plain": [
       "       0  1  2  3  4  5\n",
       "ship   1  0  1  0  0  0\n",
       "boat   0  1  0  0  0  0\n",
       "ocean  1  1  0  0  0  0\n",
       "wood   1  0  0  1  1  0\n",
       "tree   0  0  0  1  0  1"
      ],
      "text/html": "<div>\n<style scoped>\n    .dataframe tbody tr th:only-of-type {\n        vertical-align: middle;\n    }\n\n    .dataframe tbody tr th {\n        vertical-align: top;\n    }\n\n    .dataframe thead th {\n        text-align: right;\n    }\n</style>\n<table border=\"1\" class=\"dataframe\">\n  <thead>\n    <tr style=\"text-align: right;\">\n      <th></th>\n      <th>0</th>\n      <th>1</th>\n      <th>2</th>\n      <th>3</th>\n      <th>4</th>\n      <th>5</th>\n    </tr>\n  </thead>\n  <tbody>\n    <tr>\n      <th>ship</th>\n      <td>1</td>\n      <td>0</td>\n      <td>1</td>\n      <td>0</td>\n      <td>0</td>\n      <td>0</td>\n    </tr>\n    <tr>\n      <th>boat</th>\n      <td>0</td>\n      <td>1</td>\n      <td>0</td>\n      <td>0</td>\n      <td>0</td>\n      <td>0</td>\n    </tr>\n    <tr>\n      <th>ocean</th>\n      <td>1</td>\n      <td>1</td>\n      <td>0</td>\n      <td>0</td>\n      <td>0</td>\n      <td>0</td>\n    </tr>\n    <tr>\n      <th>wood</th>\n      <td>1</td>\n      <td>0</td>\n      <td>0</td>\n      <td>1</td>\n      <td>1</td>\n      <td>0</td>\n    </tr>\n    <tr>\n      <th>tree</th>\n      <td>0</td>\n      <td>0</td>\n      <td>0</td>\n      <td>1</td>\n      <td>0</td>\n      <td>1</td>\n    </tr>\n  </tbody>\n</table>\n</div>"
     },
     "metadata": {},
     "execution_count": 31
    }
   ],
   "source": [
    "data=pd.read_csv(\"ejemplo.csv\",header=None)\n",
    "data.index=[\"ship\",\"boat\",\"ocean\",\"wood\",\"tree\"]\n",
    "data"
   ]
  },
  {
   "cell_type": "code",
   "execution_count": 11,
   "metadata": {},
   "outputs": [],
   "source": [
    "U, S, VT = randomized_svd(data.values, \n",
    "                              n_components=5,\n",
    "                              n_iter=100,\n",
    "                              random_state=123)"
   ]
  },
  {
   "cell_type": "code",
   "execution_count": 39,
   "metadata": {},
   "outputs": [
    {
     "output_type": "execute_result",
     "data": {
      "text/plain": [
       "array([[2.16250096, 0.        , 0.        , 0.        , 0.        ,\n",
       "        0.        ],\n",
       "       [0.        , 1.59438237, 0.        , 0.        , 0.        ,\n",
       "        0.        ],\n",
       "       [0.        , 0.        , 0.        , 0.        , 0.        ,\n",
       "        0.        ],\n",
       "       [0.        , 0.        , 0.        , 0.        , 0.        ,\n",
       "        0.        ],\n",
       "       [0.        , 0.        , 0.        , 0.        , 0.        ,\n",
       "        0.        ]])"
      ]
     },
     "metadata": {},
     "execution_count": 39
    }
   ],
   "source": [
    "#Reduccion de dimensionalidad\n",
    "k=2\n",
    "S2=np.zeros(data.shape)\n",
    "S2[:k,:k]=np.diag(S[:k])\n",
    "S2"
   ]
  },
  {
   "cell_type": "code",
   "execution_count": 42,
   "metadata": {},
   "outputs": [
    {
     "output_type": "execute_result",
     "data": {
      "text/plain": [
       "array([[2.16250096, 0.        ],\n",
       "       [0.        , 1.59438237]])"
      ]
     },
     "metadata": {},
     "execution_count": 42
    }
   ],
   "source": [
    "S2=np.diag(S[:k])\n",
    "S2"
   ]
  },
  {
   "cell_type": "code",
   "execution_count": 20,
   "metadata": {},
   "outputs": [
    {
     "output_type": "execute_result",
     "data": {
      "text/plain": [
       "array([[ 0.74862305,  0.2797116 ,  0.2036288 ,  0.44656311,  0.32509596,\n",
       "         0.12146715],\n",
       "       [-0.28645399, -0.52845914, -0.18576119,  0.6255207 ,  0.21987976,\n",
       "         0.40564094],\n",
       "       [ 0.        ,  0.        ,  0.        ,  0.        ,  0.        ,\n",
       "         0.        ],\n",
       "       [ 0.        ,  0.        ,  0.        ,  0.        ,  0.        ,\n",
       "         0.        ],\n",
       "       [ 0.        ,  0.        ,  0.        ,  0.        ,  0.        ,\n",
       "         0.        ]])"
      ]
     },
     "metadata": {},
     "execution_count": 20
    }
   ],
   "source": [
    "VT2=np.zeros(VT.shape)\n",
    "VT2[:k,:]=VT[:k,:]\n",
    "VT2"
   ]
  },
  {
   "cell_type": "code",
   "execution_count": 43,
   "metadata": {},
   "outputs": [
    {
     "output_type": "execute_result",
     "data": {
      "text/plain": [
       "array([[ 7.48623048e-01,  2.79711603e-01,  2.03628802e-01,\n",
       "         4.46563110e-01,  3.25095956e-01,  1.21467154e-01],\n",
       "       [-2.86453991e-01, -5.28459139e-01, -1.85761186e-01,\n",
       "         6.25520701e-01,  2.19879758e-01,  4.05640944e-01],\n",
       "       [-2.79711603e-01,  7.48623048e-01, -4.46563110e-01,\n",
       "         2.03628802e-01, -1.21467154e-01,  3.25095956e-01],\n",
       "       [ 1.08898021e-16, -4.90934527e-16, -5.77350269e-01,\n",
       "         1.66217984e-16,  5.77350269e-01, -5.77350269e-01],\n",
       "       [-5.28459139e-01,  2.86453991e-01,  6.25520701e-01,\n",
       "         1.85761186e-01,  4.05640944e-01, -2.19879758e-01]])"
      ]
     },
     "metadata": {},
     "execution_count": 43
    }
   ],
   "source": [
    "VT2=VT[:k, :]\n",
    "VT"
   ]
  },
  {
   "cell_type": "code",
   "execution_count": 21,
   "metadata": {},
   "outputs": [
    {
     "output_type": "execute_result",
     "data": {
      "text/plain": [
       "array([[ 0.44034748, -0.29617436,  0.        ,  0.        ,  0.        ],\n",
       "       [ 0.12934635, -0.33145069,  0.        ,  0.        ,  0.        ],\n",
       "       [ 0.47553026, -0.51111524,  0.        ,  0.        ,  0.        ],\n",
       "       [ 0.70302032,  0.35057241,  0.        ,  0.        ,  0.        ],\n",
       "       [ 0.26267284,  0.64674677,  0.        ,  0.        ,  0.        ]])"
      ]
     },
     "metadata": {},
     "execution_count": 21
    }
   ],
   "source": [
    "U2=np.zeros(U.shape)\n",
    "U2[:,:k]=U[:,:k]\n",
    "U2"
   ]
  },
  {
   "cell_type": "code",
   "execution_count": 44,
   "metadata": {},
   "outputs": [
    {
     "output_type": "execute_result",
     "data": {
      "text/plain": [
       "array([[ 0.44034748, -0.29617436],\n",
       "       [ 0.12934635, -0.33145069],\n",
       "       [ 0.47553026, -0.51111524],\n",
       "       [ 0.70302032,  0.35057241],\n",
       "       [ 0.26267284,  0.64674677]])"
      ]
     },
     "metadata": {},
     "execution_count": 44
    }
   ],
   "source": [
    "U2=U[:,:k]\n",
    "U2"
   ]
  },
  {
   "cell_type": "code",
   "execution_count": 46,
   "metadata": {},
   "outputs": [
    {
     "output_type": "execute_result",
     "data": {
      "text/plain": [
       "              0         1\n",
       "ship   0.952252 -0.472215\n",
       "boat   0.279712 -0.528459\n",
       "ocean  1.028335 -0.814913\n",
       "wood   1.520282  0.558946\n",
       "tree   0.568030  1.031162"
      ],
      "text/html": "<div>\n<style scoped>\n    .dataframe tbody tr th:only-of-type {\n        vertical-align: middle;\n    }\n\n    .dataframe tbody tr th {\n        vertical-align: top;\n    }\n\n    .dataframe thead th {\n        text-align: right;\n    }\n</style>\n<table border=\"1\" class=\"dataframe\">\n  <thead>\n    <tr style=\"text-align: right;\">\n      <th></th>\n      <th>0</th>\n      <th>1</th>\n    </tr>\n  </thead>\n  <tbody>\n    <tr>\n      <th>ship</th>\n      <td>0.952252</td>\n      <td>-0.472215</td>\n    </tr>\n    <tr>\n      <th>boat</th>\n      <td>0.279712</td>\n      <td>-0.528459</td>\n    </tr>\n    <tr>\n      <th>ocean</th>\n      <td>1.028335</td>\n      <td>-0.814913</td>\n    </tr>\n    <tr>\n      <th>wood</th>\n      <td>1.520282</td>\n      <td>0.558946</td>\n    </tr>\n    <tr>\n      <th>tree</th>\n      <td>0.568030</td>\n      <td>1.031162</td>\n    </tr>\n  </tbody>\n</table>\n</div>"
     },
     "metadata": {},
     "execution_count": 46
    }
   ],
   "source": [
    "#proyectar las palabras al espacio de topicos\n",
    "proy= U2 @ S2\n",
    "proy = pd.DataFrame(proy, index=data.index) # Words as k-vectors\n",
    "proy"
   ]
  },
  {
   "cell_type": "code",
   "execution_count": 48,
   "metadata": {},
   "outputs": [
    {
     "output_type": "execute_result",
     "data": {
      "text/plain": [
       "array([3, 4])"
      ]
     },
     "metadata": {},
     "execution_count": 48
    }
   ],
   "source": [
    "#query \n",
    "myquery = np.where((data.index=='wood') | (data.index=='tree'))[0]\n",
    "myquery"
   ]
  },
  {
   "cell_type": "code",
   "execution_count": 50,
   "metadata": {},
   "outputs": [
    {
     "output_type": "execute_result",
     "data": {
      "text/plain": [
       "             0         1\n",
       "wood  1.520282  0.558946\n",
       "tree  0.568030  1.031162"
      ],
      "text/html": "<div>\n<style scoped>\n    .dataframe tbody tr th:only-of-type {\n        vertical-align: middle;\n    }\n\n    .dataframe tbody tr th {\n        vertical-align: top;\n    }\n\n    .dataframe thead th {\n        text-align: right;\n    }\n</style>\n<table border=\"1\" class=\"dataframe\">\n  <thead>\n    <tr style=\"text-align: right;\">\n      <th></th>\n      <th>0</th>\n      <th>1</th>\n    </tr>\n  </thead>\n  <tbody>\n    <tr>\n      <th>wood</th>\n      <td>1.520282</td>\n      <td>0.558946</td>\n    </tr>\n    <tr>\n      <th>tree</th>\n      <td>0.568030</td>\n      <td>1.031162</td>\n    </tr>\n  </tbody>\n</table>\n</div>"
     },
     "metadata": {},
     "execution_count": 50
    }
   ],
   "source": [
    "q=proy.iloc[myquery,:]\n",
    "q"
   ]
  },
  {
   "cell_type": "code",
   "execution_count": 52,
   "metadata": {},
   "outputs": [
    {
     "output_type": "execute_result",
     "data": {
      "text/plain": [
       "          0         1\n",
       "0  0.975404  0.123060\n",
       "1  0.125060 -0.388583\n",
       "2  0.204055 -0.077732\n",
       "3  1.034217  0.894618\n",
       "4  0.619136  0.408443\n",
       "5  0.415081  0.486175"
      ],
      "text/html": "<div>\n<style scoped>\n    .dataframe tbody tr th:only-of-type {\n        vertical-align: middle;\n    }\n\n    .dataframe tbody tr th {\n        vertical-align: top;\n    }\n\n    .dataframe thead th {\n        text-align: right;\n    }\n</style>\n<table border=\"1\" class=\"dataframe\">\n  <thead>\n    <tr style=\"text-align: right;\">\n      <th></th>\n      <th>0</th>\n      <th>1</th>\n    </tr>\n  </thead>\n  <tbody>\n    <tr>\n      <th>0</th>\n      <td>0.975404</td>\n      <td>0.123060</td>\n    </tr>\n    <tr>\n      <th>1</th>\n      <td>0.125060</td>\n      <td>-0.388583</td>\n    </tr>\n    <tr>\n      <th>2</th>\n      <td>0.204055</td>\n      <td>-0.077732</td>\n    </tr>\n    <tr>\n      <th>3</th>\n      <td>1.034217</td>\n      <td>0.894618</td>\n    </tr>\n    <tr>\n      <th>4</th>\n      <td>0.619136</td>\n      <td>0.408443</td>\n    </tr>\n    <tr>\n      <th>5</th>\n      <td>0.415081</td>\n      <td>0.486175</td>\n    </tr>\n  </tbody>\n</table>\n</div>"
     },
     "metadata": {},
     "execution_count": 52
    }
   ],
   "source": [
    "r=VT2.T@q\n",
    "r"
   ]
  },
  {
   "cell_type": "code",
   "execution_count": 75,
   "metadata": {},
   "outputs": [
    {
     "output_type": "execute_result",
     "data": {
      "text/plain": [
       "(2, 2)"
      ]
     },
     "metadata": {},
     "execution_count": 75
    }
   ],
   "source": [
    "S2.T.shape"
   ]
  },
  {
   "cell_type": "code",
   "execution_count": 76,
   "metadata": {},
   "outputs": [
    {
     "output_type": "execute_result",
     "data": {
      "text/plain": [
       "          0         1         2         3         4\n",
       "0  0.231776  0.003870  0.200051  0.586323  0.354547\n",
       "1 -0.037176 -0.169019 -0.163854  0.473191  0.510367"
      ],
      "text/html": "<div>\n<style scoped>\n    .dataframe tbody tr th:only-of-type {\n        vertical-align: middle;\n    }\n\n    .dataframe tbody tr th {\n        vertical-align: top;\n    }\n\n    .dataframe thead th {\n        text-align: right;\n    }\n</style>\n<table border=\"1\" class=\"dataframe\">\n  <thead>\n    <tr style=\"text-align: right;\">\n      <th></th>\n      <th>0</th>\n      <th>1</th>\n      <th>2</th>\n      <th>3</th>\n      <th>4</th>\n    </tr>\n  </thead>\n  <tbody>\n    <tr>\n      <th>0</th>\n      <td>0.231776</td>\n      <td>0.003870</td>\n      <td>0.200051</td>\n      <td>0.586323</td>\n      <td>0.354547</td>\n    </tr>\n    <tr>\n      <th>1</th>\n      <td>-0.037176</td>\n      <td>-0.169019</td>\n      <td>-0.163854</td>\n      <td>0.473191</td>\n      <td>0.510367</td>\n    </tr>\n  </tbody>\n</table>\n</div>"
     },
     "metadata": {},
     "execution_count": 76
    }
   ],
   "source": [
    "inv(S2)@(U2@q).T"
   ]
  },
  {
   "cell_type": "code",
   "execution_count": 73,
   "metadata": {},
   "outputs": [
    {
     "output_type": "execute_result",
     "data": {
      "text/plain": [
       "(2, 5)"
      ]
     },
     "metadata": {},
     "execution_count": 73
    }
   ],
   "source": [
    "a=S2@U2.T\n",
    "a.shape"
   ]
  },
  {
   "cell_type": "code",
   "execution_count": 58,
   "metadata": {},
   "outputs": [
    {
     "output_type": "error",
     "ename": "ValueError",
     "evalue": "matmul: Input operand 1 has a mismatch in its core dimension 0, with gufunc signature (n?,k),(k,m?)->(n?,m?) (size 5 is different from 2)",
     "traceback": [
      "\u001b[0;31m---------------------------------------------------------------------------\u001b[0m",
      "\u001b[0;31mValueError\u001b[0m                                Traceback (most recent call last)",
      "\u001b[0;32m<ipython-input-58-6fe9a464fc27>\u001b[0m in \u001b[0;36m<module>\u001b[0;34m\u001b[0m\n\u001b[0;32m----> 1\u001b[0;31m \u001b[0minv\u001b[0m\u001b[0;34m(\u001b[0m\u001b[0mS2\u001b[0m\u001b[0;34m)\u001b[0m\u001b[0;34m@\u001b[0m\u001b[0mU2\u001b[0m\u001b[0;34m@\u001b[0m\u001b[0mr\u001b[0m\u001b[0;34m\u001b[0m\u001b[0;34m\u001b[0m\u001b[0m\n\u001b[0m",
      "\u001b[0;31mValueError\u001b[0m: matmul: Input operand 1 has a mismatch in its core dimension 0, with gufunc signature (n?,k),(k,m?)->(n?,m?) (size 5 is different from 2)"
     ]
    }
   ],
   "source": [
    "inv(S2)@U2@r"
   ]
  },
  {
   "cell_type": "code",
   "execution_count": 54,
   "metadata": {},
   "outputs": [
    {
     "output_type": "error",
     "ename": "IndexError",
     "evalue": "only integers, slices (`:`), ellipsis (`...`), numpy.newaxis (`None`) and integer or boolean arrays are valid indices",
     "traceback": [
      "\u001b[0;31m---------------------------------------------------------------------------\u001b[0m",
      "\u001b[0;31mIndexError\u001b[0m                                Traceback (most recent call last)",
      "\u001b[0;32m<ipython-input-54-135afc9ef102>\u001b[0m in \u001b[0;36m<module>\u001b[0;34m\u001b[0m\n\u001b[1;32m      2\u001b[0m \u001b[0mkl\u001b[0m \u001b[0;34m=\u001b[0m \u001b[0mlist\u001b[0m\u001b[0;34m(\u001b[0m\u001b[0mdata\u001b[0m\u001b[0;34m.\u001b[0m\u001b[0mindex\u001b[0m\u001b[0;34m)\u001b[0m\u001b[0;34m\u001b[0m\u001b[0;34m\u001b[0m\u001b[0m\n\u001b[1;32m      3\u001b[0m \u001b[0mkeys\u001b[0m \u001b[0;34m=\u001b[0m \u001b[0;34m[\u001b[0m\u001b[0mkl\u001b[0m\u001b[0;34m[\u001b[0m\u001b[0mi\u001b[0m\u001b[0;34m]\u001b[0m \u001b[0;32mfor\u001b[0m \u001b[0mi\u001b[0m \u001b[0;32min\u001b[0m \u001b[0midx\u001b[0m\u001b[0;34m]\u001b[0m\u001b[0;34m\u001b[0m\u001b[0;34m\u001b[0m\u001b[0m\n\u001b[0;32m----> 4\u001b[0;31m \u001b[0mdocs\u001b[0m \u001b[0;34m=\u001b[0m \u001b[0;34m[\u001b[0m\u001b[0mdata\u001b[0m\u001b[0;34m.\u001b[0m\u001b[0mindex\u001b[0m\u001b[0;34m[\u001b[0m\u001b[0mk\u001b[0m\u001b[0;34m]\u001b[0m \u001b[0;32mfor\u001b[0m \u001b[0mk\u001b[0m \u001b[0;32min\u001b[0m \u001b[0mkeys\u001b[0m\u001b[0;34m]\u001b[0m\u001b[0;34m\u001b[0m\u001b[0;34m\u001b[0m\u001b[0m\n\u001b[0m",
      "\u001b[0;32m<ipython-input-54-135afc9ef102>\u001b[0m in \u001b[0;36m<listcomp>\u001b[0;34m(.0)\u001b[0m\n\u001b[1;32m      2\u001b[0m \u001b[0mkl\u001b[0m \u001b[0;34m=\u001b[0m \u001b[0mlist\u001b[0m\u001b[0;34m(\u001b[0m\u001b[0mdata\u001b[0m\u001b[0;34m.\u001b[0m\u001b[0mindex\u001b[0m\u001b[0;34m)\u001b[0m\u001b[0;34m\u001b[0m\u001b[0;34m\u001b[0m\u001b[0m\n\u001b[1;32m      3\u001b[0m \u001b[0mkeys\u001b[0m \u001b[0;34m=\u001b[0m \u001b[0;34m[\u001b[0m\u001b[0mkl\u001b[0m\u001b[0;34m[\u001b[0m\u001b[0mi\u001b[0m\u001b[0;34m]\u001b[0m \u001b[0;32mfor\u001b[0m \u001b[0mi\u001b[0m \u001b[0;32min\u001b[0m \u001b[0midx\u001b[0m\u001b[0;34m]\u001b[0m\u001b[0;34m\u001b[0m\u001b[0;34m\u001b[0m\u001b[0m\n\u001b[0;32m----> 4\u001b[0;31m \u001b[0mdocs\u001b[0m \u001b[0;34m=\u001b[0m \u001b[0;34m[\u001b[0m\u001b[0mdata\u001b[0m\u001b[0;34m.\u001b[0m\u001b[0mindex\u001b[0m\u001b[0;34m[\u001b[0m\u001b[0mk\u001b[0m\u001b[0;34m]\u001b[0m \u001b[0;32mfor\u001b[0m \u001b[0mk\u001b[0m \u001b[0;32min\u001b[0m \u001b[0mkeys\u001b[0m\u001b[0;34m]\u001b[0m\u001b[0;34m\u001b[0m\u001b[0;34m\u001b[0m\u001b[0m\n\u001b[0m",
      "\u001b[0;32m~/Programas/anaconda3/lib/python3.8/site-packages/pandas/core/indexes/base.py\u001b[0m in \u001b[0;36m__getitem__\u001b[0;34m(self, key)\u001b[0m\n\u001b[1;32m   4295\u001b[0m         \u001b[0;32mif\u001b[0m \u001b[0mis_scalar\u001b[0m\u001b[0;34m(\u001b[0m\u001b[0mkey\u001b[0m\u001b[0;34m)\u001b[0m\u001b[0;34m:\u001b[0m\u001b[0;34m\u001b[0m\u001b[0;34m\u001b[0m\u001b[0m\n\u001b[1;32m   4296\u001b[0m             \u001b[0mkey\u001b[0m \u001b[0;34m=\u001b[0m \u001b[0mcom\u001b[0m\u001b[0;34m.\u001b[0m\u001b[0mcast_scalar_indexer\u001b[0m\u001b[0;34m(\u001b[0m\u001b[0mkey\u001b[0m\u001b[0;34m,\u001b[0m \u001b[0mwarn_float\u001b[0m\u001b[0;34m=\u001b[0m\u001b[0;32mTrue\u001b[0m\u001b[0;34m)\u001b[0m\u001b[0;34m\u001b[0m\u001b[0;34m\u001b[0m\u001b[0m\n\u001b[0;32m-> 4297\u001b[0;31m             \u001b[0;32mreturn\u001b[0m \u001b[0mgetitem\u001b[0m\u001b[0;34m(\u001b[0m\u001b[0mkey\u001b[0m\u001b[0;34m)\u001b[0m\u001b[0;34m\u001b[0m\u001b[0;34m\u001b[0m\u001b[0m\n\u001b[0m\u001b[1;32m   4298\u001b[0m \u001b[0;34m\u001b[0m\u001b[0m\n\u001b[1;32m   4299\u001b[0m         \u001b[0;32mif\u001b[0m \u001b[0misinstance\u001b[0m\u001b[0;34m(\u001b[0m\u001b[0mkey\u001b[0m\u001b[0;34m,\u001b[0m \u001b[0mslice\u001b[0m\u001b[0;34m)\u001b[0m\u001b[0;34m:\u001b[0m\u001b[0;34m\u001b[0m\u001b[0;34m\u001b[0m\u001b[0m\n",
      "\u001b[0;31mIndexError\u001b[0m: only integers, slices (`:`), ellipsis (`...`), numpy.newaxis (`None`) and integer or boolean arrays are valid indices"
     ]
    }
   ],
   "source": [
    "idx = np.argsort(VT2.T @ q)[::-1]\n",
    "kl = list(data.index)\n",
    "keys = [kl[i] for i in idx]\n",
    "docs = [data.index[k] for k in keys]"
   ]
  },
  {
   "cell_type": "code",
   "execution_count": 22,
   "metadata": {},
   "outputs": [
    {
     "output_type": "execute_result",
     "data": {
      "text/plain": [
       "array([[ 0.8481456 ,  0.51590232,  0.28162515,  0.12986018,  0.20574267,\n",
       "        -0.07588249],\n",
       "       [ 0.36077778,  0.35750764,  0.15512454, -0.20565325, -0.02526436,\n",
       "        -0.18038889],\n",
       "       [ 1.00327014,  0.71828543,  0.36077778, -0.05052871,  0.15512454,\n",
       "        -0.20565325],\n",
       "       [ 0.97800578,  0.12986018,  0.20574267,  1.0285345 ,  0.61713858,\n",
       "         0.41139591],\n",
       "       [ 0.12986018, -0.38604214, -0.07588249,  0.89867432,  0.41139591,\n",
       "         0.4872784 ]])"
      ]
     },
     "metadata": {},
     "execution_count": 22
    }
   ],
   "source": [
    "A2= U2@S2@VT2\n",
    "A2"
   ]
  },
  {
   "cell_type": "code",
   "execution_count": 41,
   "metadata": {},
   "outputs": [
    {
     "output_type": "execute_result",
     "data": {
      "text/plain": [
       "array([[ 0.74862305,  0.2797116 ,  0.2036288 ,  0.44656311,  0.32509596,\n",
       "         0.12146715],\n",
       "       [-0.28645399, -0.52845914, -0.18576119,  0.6255207 ,  0.21987976,\n",
       "         0.40564094],\n",
       "       [ 0.        ,  0.        ,  0.        ,  0.        ,  0.        ,\n",
       "         0.        ],\n",
       "       [ 0.        ,  0.        ,  0.        ,  0.        ,  0.        ,\n",
       "         0.        ],\n",
       "       [ 0.        ,  0.        ,  0.        ,  0.        ,  0.        ,\n",
       "         0.        ]])"
      ]
     },
     "metadata": {},
     "execution_count": 41
    }
   ],
   "source": [
    "VT2"
   ]
  },
  {
   "cell_type": "code",
   "execution_count": 36,
   "metadata": {},
   "outputs": [
    {
     "output_type": "execute_result",
     "data": {
      "text/plain": [
       "array([ 0.48003667, -0.24874754,  0.21342152,  2.07922858,  1.59919191])"
      ]
     },
     "metadata": {},
     "execution_count": 36
    }
   ],
   "source": [
    "#query = shio and boat\n",
    "q = U2[:, :k] @ np.diag(S2[:k]) #proyeccion del la consulta al espacio de topicos\n",
    "q"
   ]
  },
  {
   "cell_type": "code",
   "execution_count": 33,
   "metadata": {},
   "outputs": [
    {
     "output_type": "execute_result",
     "data": {
      "text/plain": [
       "array([ 2.77268678, -0.03532601,  0.48003667,  3.67842049,  2.07922858,\n",
       "        1.59919191])"
      ]
     },
     "metadata": {},
     "execution_count": 33
    }
   ],
   "source": [
    "#consulta\n",
    "resultado=[]\n",
    "for col in data.columns:\n",
    "    doc=data[col]\n",
    "    resultado.append(np.dot(q,doc))\n",
    "resultado=np.array(resultado)\n",
    "resultado"
   ]
  },
  {
   "cell_type": "code",
   "execution_count": 34,
   "metadata": {},
   "outputs": [
    {
     "output_type": "execute_result",
     "data": {
      "text/plain": [
       "3"
      ]
     },
     "metadata": {},
     "execution_count": 34
    }
   ],
   "source": [
    "np.argmax(resultado)"
   ]
  },
  {
   "cell_type": "code",
   "execution_count": null,
   "metadata": {},
   "outputs": [],
   "source": []
  }
 ]
}